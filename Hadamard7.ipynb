{
 "cells": [
  {
   "cell_type": "code",
   "execution_count": 2,
   "id": "059aefbe",
   "metadata": {},
   "outputs": [],
   "source": [
    "import numpy as np\n",
    "\n",
    "# Define the fourth root of unity\n",
    "w = np.exp(2j * np.pi / 7)\n",
    "\n",
    "H1=np.matrix([\n",
    "[w**0,w**0,w**0,w**0,w**0,w**0,w**0,w**0,w**0,w**0,w**0,w**0,w**0,w**0],\n",
    "[w**0,w**0,w**1,w**1,w**2,w**2,w**3,w**3,w**4,w**4,w**5,w**5,w**6,w**6],\n",
    "[w**0,w**1,w**0,w**2,w**4,w**5,w**1,w**6,w**3,w**6,w**2,w**5,w**3,w**4],\n",
    "[w**0,w**3,w**5,w**3,w**2,w**1,w**0,w**6,w**5,w**2,w**6,w**4,w**4,w**1],\n",
    "[w**0,w**6,w**3,w**4,w**6,w**3,w**1,w**5,w**4,w**2,w**1,w**2,w**0,w**5],\n",
    "[w**0,w**5,w**4,w**1,w**6,w**1,w**2,w**4,w**6,w**5,w**3,w**0,w**3,w**2],\n",
    "[w**0,w**4,w**2,w**6,w**3,w**5,w**2,w**5,w**1,w**0,w**4,w**3,w**6,w**1],\n",
    "[w**0,w**2,w**6,w**5,w**4,w**0,w**3,w**4,w**1,w**3,w**6,w**1,w**2,w**5],\n",
    "[w**0,w**2,w**5,w**6,w**0,w**4,w**4,w**3,w**3,w**1,w**1,w**6,w**5,w**2],\n",
    "[w**0,w**5,w**1,w**4,w**1,w**6,w**4,w**2,w**5,w**6,w**0,w**3,w**2,w**3],\n",
    "[w**0,w**4,w**6,w**2,w**5,w**3,w**5,w**2,w**0,w**1,w**3,w**4,w**1,w**6],\n",
    "[w**0,w**6,w**4,w**3,w**3,w**6,w**5,w**1,w**2,w**4,w**2,w**1,w**5,w**0],\n",
    "[w**0,w**3,w**3,w**5,w**1,w**2,w**6,w**0,w**2,w**5,w**4,w**6,w**1,w**4],\n",
    "[w**0,w**1,w**2,w**0,w**5,w**4,w**6,w**1,w**6,w**3,w**5,w**2,w**4,w**3]]/np.sqrt(14))\n",
    "\n",
    "H2=np.matrix([\n",
    "[w**0,w**0,w**0,w**0,w**0,w**0,w**0,w**0,w**0,w**0,w**0,w**0,w**0,w**0],\n",
    "[w**0,w**0,w**1,w**1,w**2,w**2,w**3,w**3,w**4,w**4,w**5,w**5,w**6,w**6],\n",
    "[w**0,w**1,w**0,w**2,w**4,w**6,w**5,w**6,w**2,w**3,w**1,w**5,w**3,w**4],\n",
    "[w**0,w**6,w**3,w**4,w**3,w**5,w**0,w**2,w**2,w**1,w**5,w**6,w**4,w**1],\n",
    "[w**0,w**5,w**5,w**3,w**3,w**1,w**1,w**6,w**4,w**6,w**2,w**4,w**0,w**2],\n",
    "[w**0,w**2,w**1,w**2,w**6,w**5,w**1,w**4,w**6,w**0,w**4,w**3,w**5,w**3],\n",
    "[w**0,w**3,w**6,w**5,w**2,w**3,w**2,w**4,w**1,w**6,w**1,w**0,w**4,w**5],\n",
    "[w**0,w**5,w**3,w**1,w**6,w**4,w**2,w**0,w**3,w**5,w**6,w**1,w**2,w**4],\n",
    "[w**0,w**2,w**4,w**6,w**5,w**6,w**3,w**2,w**1,w**5,w**3,w**4,w**1,w**0],\n",
    "[w**0,w**6,w**2,w**5,w**1,w**0,w**4,w**5,w**6,w**4,w**3,w**1,w**3,w**2],\n",
    "[w**0,w**4,w**6,w**3,w**5,w**2,w**4,w**1,w**0,w**3,w**6,w**2,w**5,w**1],\n",
    "[w**0,w**3,w**4,w**0,w**1,w**4,w**5,w**1,w**5,w**2,w**2,w**6,w**6,w**3],\n",
    "[w**0,w**4,w**2,w**6,w**4,w**1,w**6,w**3,w**5,w**1,w**0,w**3,w**2,w**5],\n",
    "[w**0,w**1,w**5,w**4,w**0,w**3,w**6,w**5,w**3,w**2,w**4,w**2,w**1,w**6]]/np.sqrt(14))\n",
    "\n",
    "H3=np.matrix([\n",
    "[w**0,w**0,w**0,w**0,w**0,w**0,w**0,w**0,w**0,w**0,w**0,w**0,w**0,w**0],\n",
    "[w**0,w**0,w**1,w**1,w**2,w**2,w**3,w**3,w**4,w**4,w**5,w**5,w**6,w**6],\n",
    "[w**0,w**1,w**0,w**2,w**5,w**6,w**3,w**5,w**2,w**6,w**1,w**4,w**3,w**4],\n",
    "[w**0,w**3,w**6,w**1,w**3,w**4,w**0,w**6,w**5,w**2,w**2,w**4,w**5,w**1],\n",
    "[w**0,w**6,w**3,w**4,w**5,w**2,w**1,w**4,w**6,w**1,w**2,w**3,w**0,w**5],\n",
    "[w**0,w**2,w**4,w**5,w**0,w**4,w**1,w**2,w**3,w**5,w**1,w**6,w**6,w**3],\n",
    "[w**0,w**2,w**5,w**4,w**4,w**0,w**2,w**1,w**5,w**3,w**6,w**1,w**3,w**6],\n",
    "[w**0,w**4,w**3,w**6,w**3,w**1,w**2,w**5,w**1,w**0,w**5,w**6,w**4,w**2],\n",
    "[w**0,w**6,w**4,w**3,w**2,w**5,w**4,w**1,w**1,w**6,w**3,w**2,w**5,w**0],\n",
    "[w**0,w**5,w**2,w**5,w**1,w**6,w**4,w**6,w**4,w**3,w**0,w**3,w**1,w**2],\n",
    "[w**0,w**4,w**6,w**3,w**1,w**3,w**5,w**2,w**0,w**1,w**6,w**5,w**2,w**4],\n",
    "[w**0,w**1,w**2,w**0,w**6,w**5,w**5,w**3,w**6,w**2,w**4,w**1,w**4,w**3],\n",
    "[w**0,w**5,w**5,w**2,w**6,w**1,w**6,w**4,w**3,w**4,w**3,w**0,w**2,w**1],\n",
    "[w**0,w**3,w**1,w**6,w**4,w**3,w**6,w**0,w**2,w**5,w**4,w**2,w**1,w**5]]/np.sqrt(14))\n",
    "\n",
    "# Initialize the Hadamard matrix\n",
    "F14 = np.matrix(np.zeros((14,14), dtype=complex))\n",
    " \n",
    "# Fill the Hadamard matrix\n",
    "for i in range(14):\n",
    "    for j in range(14):\n",
    "        F14[i, j] = w ** (i * j)/np.sqrt(14)\n",
    "\n"
   ]
  },
  {
   "cell_type": "code",
   "execution_count": 2,
   "id": "ae4b0df5",
   "metadata": {},
   "outputs": [],
   "source": [
    "def diagram(H): #Computes Tr((H o H) (H o H)† (H o H) (H o H)†), where o is the Schur product\n",
    "    H=np.multiply(H,H)*np.sqrt(14)\n",
    "    H=np.matmul(H,H.H)\n",
    "    H=np.matmul(H,H)\n",
    "    return np.trace(H)"
   ]
  },
  {
   "cell_type": "code",
   "execution_count": 3,
   "id": "74c79934",
   "metadata": {},
   "outputs": [
    {
     "data": {
      "text/plain": [
       "(14.00000000000002-2.4056448463124968e-17j)"
      ]
     },
     "execution_count": 3,
     "metadata": {},
     "output_type": "execute_result"
    }
   ],
   "source": [
    "diagram(H1)"
   ]
  },
  {
   "cell_type": "code",
   "execution_count": 4,
   "id": "ab1260ce",
   "metadata": {},
   "outputs": [
    {
     "data": {
      "text/plain": [
       "(14.000000000000016-4.991382897119395e-17j)"
      ]
     },
     "execution_count": 4,
     "metadata": {},
     "output_type": "execute_result"
    }
   ],
   "source": [
    "diagram(H2)"
   ]
  },
  {
   "cell_type": "code",
   "execution_count": 5,
   "id": "f96bf201",
   "metadata": {},
   "outputs": [
    {
     "data": {
      "text/plain": [
       "(14.000000000000018-3.1146932721217887e-17j)"
      ]
     },
     "execution_count": 5,
     "metadata": {},
     "output_type": "execute_result"
    }
   ],
   "source": [
    "diagram(H3)"
   ]
  },
  {
   "cell_type": "code",
   "execution_count": 6,
   "id": "54eb83fd",
   "metadata": {},
   "outputs": [
    {
     "data": {
      "text/plain": [
       "(28.00000000000046+3.5164949847052335e-17j)"
      ]
     },
     "execution_count": 6,
     "metadata": {},
     "output_type": "execute_result"
    }
   ],
   "source": [
    "diagram(F14)"
   ]
  },
  {
   "cell_type": "code",
   "execution_count": 29,
   "id": "96331a9b",
   "metadata": {},
   "outputs": [],
   "source": [
    "def diagram(H):\n",
    "    HH=np.array(H.H)\n",
    "    HT=np.array(H.T)\n",
    "    H=np.array(H)\n",
    "    A=np.sum(HH[:,:,None,None,None]**2*\n",
    "             H[None,:,:,None,None]*\n",
    "             HH[None,None,:,:,None]**2*\n",
    "             HT[:,None,None,:,None]*\n",
    "             H[None,None,None,:,:]\n",
    "                  ,axis=(3))*14\n",
    "    A=np.sum(A[:,:,:,:,None,None]*\n",
    "             HH[None,None,None,:,:,None]**2*\n",
    "              H[None,None,None,None,:,:]*\n",
    "             HT[None,None,:,None,:,None]\n",
    "             ,axis=(4))*14\n",
    "    return np.sum(A[:,:,:,:,:,None]*\n",
    "                  HH[None,None,None,None,:,:]**2*\n",
    "                  H[None,:,None,None,:,None]*\n",
    "                  HT[:,None,None,None,None,:]*\n",
    "                  HT[None,None,None,:,None,:]\n",
    "                 ,axis=(0,1,2,3,4,5))*14"
   ]
  },
  {
   "cell_type": "code",
   "execution_count": 30,
   "id": "0349c579",
   "metadata": {},
   "outputs": [
    {
     "data": {
      "text/plain": [
       "(0.7500000000000027+6.98507655108198e-18j)"
      ]
     },
     "execution_count": 30,
     "metadata": {},
     "output_type": "execute_result"
    }
   ],
   "source": [
    "diagram(H1)"
   ]
  },
  {
   "cell_type": "code",
   "execution_count": 31,
   "id": "87e94459",
   "metadata": {},
   "outputs": [
    {
     "data": {
      "text/plain": [
       "(5.750000000000012+4.1737963374909967e-16j)"
      ]
     },
     "execution_count": 31,
     "metadata": {},
     "output_type": "execute_result"
    }
   ],
   "source": [
    "diagram(H2)"
   ]
  },
  {
   "cell_type": "code",
   "execution_count": 32,
   "id": "05fe58b1",
   "metadata": {},
   "outputs": [
    {
     "data": {
      "text/plain": [
       "(0.7500000000000018+1.0274891338598707e-17j)"
      ]
     },
     "execution_count": 32,
     "metadata": {},
     "output_type": "execute_result"
    }
   ],
   "source": [
    "diagram(H3)"
   ]
  },
  {
   "cell_type": "code",
   "execution_count": 33,
   "id": "5778c397",
   "metadata": {},
   "outputs": [
    {
     "data": {
      "text/plain": [
       "(8.000000000000249-1.3802701186706927e-17j)"
      ]
     },
     "execution_count": 33,
     "metadata": {},
     "output_type": "execute_result"
    }
   ],
   "source": [
    "diagram(F14)"
   ]
  }
 ],
 "metadata": {
  "kernelspec": {
   "display_name": "Python 3 (ipykernel)",
   "language": "python",
   "name": "python3"
  },
  "language_info": {
   "codemirror_mode": {
    "name": "ipython",
    "version": 3
   },
   "file_extension": ".py",
   "mimetype": "text/x-python",
   "name": "python",
   "nbconvert_exporter": "python",
   "pygments_lexer": "ipython3",
   "version": "3.10.12"
  }
 },
 "nbformat": 4,
 "nbformat_minor": 5
}
