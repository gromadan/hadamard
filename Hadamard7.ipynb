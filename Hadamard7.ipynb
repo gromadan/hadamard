{
 "cells": [
  {
   "cell_type": "code",
   "execution_count": 1,
   "id": "059aefbe",
   "metadata": {},
   "outputs": [],
   "source": [
    "import numpy as np\n",
    "\n",
    "# Define the fourth root of unity\n",
    "w = np.exp(2j * np.pi / 7)\n",
    "\n",
    "H1=[\n",
    "[w**0,w**0,w**0,w**0,w**0,w**0,w**0,w**0,w**0,w**0,w**0,w**0,w**0,w**0],\n",
    "[w**0,w**0,w**1,w**1,w**2,w**2,w**3,w**3,w**4,w**4,w**5,w**5,w**6,w**6],\n",
    "[w**0,w**1,w**0,w**2,w**4,w**5,w**1,w**6,w**3,w**6,w**2,w**5,w**3,w**4],\n",
    "[w**0,w**3,w**5,w**3,w**2,w**1,w**0,w**6,w**5,w**2,w**6,w**4,w**4,w**1],\n",
    "[w**0,w**6,w**3,w**4,w**6,w**3,w**1,w**5,w**4,w**2,w**1,w**2,w**0,w**5],\n",
    "[w**0,w**5,w**4,w**1,w**6,w**1,w**2,w**4,w**6,w**5,w**3,w**0,w**3,w**2],\n",
    "[w**0,w**4,w**2,w**6,w**3,w**5,w**2,w**5,w**1,w**0,w**4,w**3,w**6,w**1],\n",
    "[w**0,w**2,w**6,w**5,w**4,w**0,w**3,w**4,w**1,w**3,w**6,w**1,w**2,w**5],\n",
    "[w**0,w**2,w**5,w**6,w**0,w**4,w**4,w**3,w**3,w**1,w**1,w**6,w**5,w**2],\n",
    "[w**0,w**5,w**1,w**4,w**1,w**6,w**4,w**2,w**5,w**6,w**0,w**3,w**2,w**3],\n",
    "[w**0,w**4,w**6,w**2,w**5,w**3,w**5,w**2,w**0,w**1,w**3,w**4,w**1,w**6],\n",
    "[w**0,w**6,w**4,w**3,w**3,w**6,w**5,w**1,w**2,w**4,w**2,w**1,w**5,w**0],\n",
    "[w**0,w**3,w**3,w**5,w**1,w**2,w**6,w**0,w**2,w**5,w**4,w**6,w**1,w**4],\n",
    "[w**0,w**1,w**2,w**0,w**5,w**4,w**6,w**1,w**6,w**3,w**5,w**2,w**4,w**3]]/np.sqrt(14)\n",
    "\n",
    "H2=[\n",
    "[w**0,w**0,w**0,w**0,w**0,w**0,w**0,w**0,w**0,w**0,w**0,w**0,w**0,w**0],\n",
    "[w**0,w**0,w**1,w**1,w**2,w**2,w**3,w**3,w**4,w**4,w**5,w**5,w**6,w**6],\n",
    "[w**0,w**1,w**0,w**2,w**4,w**6,w**5,w**6,w**2,w**3,w**1,w**5,w**3,w**4],\n",
    "[w**0,w**6,w**3,w**4,w**3,w**5,w**0,w**2,w**2,w**1,w**5,w**6,w**4,w**1],\n",
    "[w**0,w**5,w**5,w**3,w**3,w**1,w**1,w**6,w**4,w**6,w**2,w**4,w**0,w**2],\n",
    "[w**0,w**2,w**1,w**2,w**6,w**5,w**1,w**4,w**6,w**0,w**4,w**3,w**5,w**3],\n",
    "[w**0,w**3,w**6,w**5,w**2,w**3,w**2,w**4,w**1,w**6,w**1,w**0,w**4,w**5],\n",
    "[w**0,w**5,w**3,w**1,w**6,w**4,w**2,w**0,w**3,w**5,w**6,w**1,w**2,w**4],\n",
    "[w**0,w**2,w**4,w**6,w**5,w**6,w**3,w**2,w**1,w**5,w**3,w**4,w**1,w**0],\n",
    "[w**0,w**6,w**2,w**5,w**1,w**0,w**4,w**5,w**6,w**4,w**3,w**1,w**3,w**2],\n",
    "[w**0,w**4,w**6,w**3,w**5,w**2,w**4,w**1,w**0,w**3,w**6,w**2,w**5,w**1],\n",
    "[w**0,w**3,w**4,w**0,w**1,w**4,w**5,w**1,w**5,w**2,w**2,w**6,w**6,w**3],\n",
    "[w**0,w**4,w**2,w**6,w**4,w**1,w**6,w**3,w**5,w**1,w**0,w**3,w**2,w**5],\n",
    "[w**0,w**1,w**5,w**4,w**0,w**3,w**6,w**5,w**3,w**2,w**4,w**2,w**1,w**6]]/np.sqrt(14)\n",
    "\n",
    "H3=[\n",
    "[w**0,w**0,w**0,w**0,w**0,w**0,w**0,w**0,w**0,w**0,w**0,w**0,w**0,w**0],\n",
    "[w**0,w**0,w**1,w**1,w**2,w**2,w**3,w**3,w**4,w**4,w**5,w**5,w**6,w**6],\n",
    "[w**0,w**1,w**0,w**2,w**5,w**6,w**3,w**5,w**2,w**6,w**1,w**4,w**3,w**4],\n",
    "[w**0,w**3,w**6,w**1,w**3,w**4,w**0,w**6,w**5,w**2,w**2,w**4,w**5,w**1],\n",
    "[w**0,w**6,w**3,w**4,w**5,w**2,w**1,w**4,w**6,w**1,w**2,w**3,w**0,w**5],\n",
    "[w**0,w**2,w**4,w**5,w**0,w**4,w**1,w**2,w**3,w**5,w**1,w**6,w**6,w**3],\n",
    "[w**0,w**2,w**5,w**4,w**4,w**0,w**2,w**1,w**5,w**3,w**6,w**1,w**3,w**6],\n",
    "[w**0,w**4,w**3,w**6,w**3,w**1,w**2,w**5,w**1,w**0,w**5,w**6,w**4,w**2],\n",
    "[w**0,w**6,w**4,w**3,w**2,w**5,w**4,w**1,w**1,w**6,w**3,w**2,w**5,w**0],\n",
    "[w**0,w**5,w**2,w**5,w**1,w**6,w**4,w**6,w**4,w**3,w**0,w**3,w**1,w**2],\n",
    "[w**0,w**4,w**6,w**3,w**1,w**3,w**5,w**2,w**0,w**1,w**6,w**5,w**2,w**4],\n",
    "[w**0,w**1,w**2,w**0,w**6,w**5,w**5,w**3,w**6,w**2,w**4,w**1,w**4,w**3],\n",
    "[w**0,w**5,w**5,w**2,w**6,w**1,w**6,w**4,w**3,w**4,w**3,w**0,w**2,w**1],\n",
    "[w**0,w**3,w**1,w**6,w**4,w**3,w**6,w**0,w**2,w**5,w**4,w**2,w**1,w**5]]/np.sqrt(14)\n"
   ]
  },
  {
   "cell_type": "code",
   "execution_count": 2,
   "id": "ae4b0df5",
   "metadata": {},
   "outputs": [],
   "source": [
    "def diagram(H): #Computes Tr((H o H)^4), where o is the Schur product\n",
    "    H=np.multiply(H,H)\n",
    "    H=np.matmul(H,H)\n",
    "    H=np.matmul(H,H)\n",
    "    return np.trace(H)"
   ]
  },
  {
   "cell_type": "code",
   "execution_count": 3,
   "id": "74c79934",
   "metadata": {},
   "outputs": [
    {
     "data": {
      "text/plain": [
       "(0.024953535618754914-0.016015053967645326j)"
      ]
     },
     "execution_count": 3,
     "metadata": {},
     "output_type": "execute_result"
    }
   ],
   "source": [
    "diagram(H1)"
   ]
  },
  {
   "cell_type": "code",
   "execution_count": 4,
   "id": "7537f894",
   "metadata": {},
   "outputs": [
    {
     "data": {
      "text/plain": [
       "(0.024277974507083185-0.0019199666981832275j)"
      ]
     },
     "execution_count": 4,
     "metadata": {},
     "output_type": "execute_result"
    }
   ],
   "source": [
    "diagram(H2)"
   ]
  },
  {
   "cell_type": "code",
   "execution_count": 5,
   "id": "f96bf201",
   "metadata": {},
   "outputs": [
    {
     "data": {
      "text/plain": [
       "(0.007690513207364028-0.012259120900703767j)"
      ]
     },
     "execution_count": 5,
     "metadata": {},
     "output_type": "execute_result"
    }
   ],
   "source": [
    "diagram(H3)"
   ]
  },
  {
   "cell_type": "code",
   "execution_count": null,
   "id": "d65cf635",
   "metadata": {},
   "outputs": [],
   "source": []
  }
 ],
 "metadata": {
  "kernelspec": {
   "display_name": "Python 3 (ipykernel)",
   "language": "python",
   "name": "python3"
  },
  "language_info": {
   "codemirror_mode": {
    "name": "ipython",
    "version": 3
   },
   "file_extension": ".py",
   "mimetype": "text/x-python",
   "name": "python",
   "nbconvert_exporter": "python",
   "pygments_lexer": "ipython3",
   "version": "3.10.12"
  }
 },
 "nbformat": 4,
 "nbformat_minor": 5
}
